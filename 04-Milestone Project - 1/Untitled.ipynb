{
 "cells": [
  {
   "cell_type": "code",
   "execution_count": 3,
   "metadata": {},
   "outputs": [],
   "source": [
    "#Task 1:\n",
    "# Build a function which capitalises each first letter of each word in a string\n",
    "# expected output:\n",
    "# capitalizeFunction('hello my name is hollie')\n",
    "# Hello My Name Is Hollie\n",
    "\n",
    "#Task 2:\n",
    "# Take the output of the capitalizeFunction and use it as an argument for the next task\n",
    "# Take a string containing capitalised first letters and make the word lowercase if the first letter of the word is H\n",
    "# expected output:\n",
    "# lowerFunction(inputString)\n",
    "# Hello My Name Is hollie"
   ]
  },
  {
   "cell_type": "code",
   "execution_count": null,
   "metadata": {},
   "outputs": [],
   "source": []
  }
 ],
 "metadata": {
  "kernelspec": {
   "display_name": "Python 3",
   "language": "python",
   "name": "python3"
  },
  "language_info": {
   "codemirror_mode": {
    "name": "ipython",
    "version": 3
   },
   "file_extension": ".py",
   "mimetype": "text/x-python",
   "name": "python",
   "nbconvert_exporter": "python",
   "pygments_lexer": "ipython3",
   "version": "3.7.6"
  }
 },
 "nbformat": 4,
 "nbformat_minor": 4
}
